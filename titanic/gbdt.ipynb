{
 "cells": [
  {
   "cell_type": "markdown",
   "metadata": {},
   "source": [
    "## GBDT is, as always, the best estimator\n",
    "It can handle NaNs, so we will do different data preparation for this estimator specifically."
   ]
  },
  {
   "cell_type": "code",
   "execution_count": 114,
   "metadata": {},
   "outputs": [],
   "source": [
    "import lightgbm as lgbm\n",
    "import numpy as np\n",
    "import os\n",
    "import pandas as pd\n",
    "import seaborn as sns\n",
    "from sklearn.model_selection import cross_val_score\n",
    "from sklearn.preprocessing import LabelEncoder\n",
    "from sklearn import svm"
   ]
  },
  {
   "cell_type": "code",
   "execution_count": 339,
   "metadata": {},
   "outputs": [],
   "source": [
    "features = ['Pclass', 'Title', 'Fam_type', 'Embarked', 'Fare']#, 'Age', 'Cabin_info']#, 'Deck', 'Sex']\n",
    "cat_features = ['Pclass', 'Title', 'Sex', 'Fam_type', 'Embarked', 'Deck', 'Cabin_info']"
   ]
  },
  {
   "cell_type": "code",
   "execution_count": 340,
   "metadata": {},
   "outputs": [],
   "source": [
    "df_train = pd.read_csv(os.path.join('data', 'train.csv'), index_col=0)\n",
    "df_test = pd.read_csv(os.path.join('data', 'test.csv'), index_col=0)\n",
    "\n",
    "# Because of the amount of missing values and high number of categories, Deck is probably a bad feature\n",
    "df_train['Deck'] = df_train['Cabin'].dropna().str[0]\n",
    "df_test['Deck'] = df_test['Cabin'].dropna().str[0]\n",
    "# New binary cabin feature\n",
    "df_train['Cabin_info'] = df_train['Cabin'].apply(lambda x: 1 if x is not np.nan else 0)\n",
    "df_test['Cabin_info'] = df_test['Cabin'].apply(lambda x: 1 if x is not np.nan else 0)\n",
    "\n",
    "# Pro tips from Massimiliano Viola's kernel\n",
    "df_train.loc[(df_train['Fare']==0), 'Fare'] = np.nan\n",
    "df_test.loc[(df_test['Fare']==0), 'Fare'] = np.nan\n",
    "\n",
    "# Combine siblings, spouses, parents and children into a family size feature\n",
    "df_train['Fam_type'] = pd.cut(df_train['SibSp'] + df_train['Parch'] + 1, [0,1,4,7,11], labels=['Solo', 'Small', 'Big', 'Very big'])\n",
    "df_test['Fam_type'] = pd.cut(df_test['SibSp'] + df_test['Parch'] + 1, [0,1,4,7,11], labels=['Solo', 'Small', 'Big', 'Very big'])\n",
    "\n",
    "# Create Title feature based on name (replaces Sex as feature)\n",
    "df_train['Title'] = df_train['Name'].apply(lambda x: x.split(',')[1].split('.')[0].strip())\n",
    "df_test['Title']  = df_test['Name'].apply(lambda x: x.split(',')[1].split('.')[0].strip())\n",
    "df_train['Title'] = df_train['Title'].replace(['Mme', 'Ms', 'Lady', 'Mlle', 'the Countess', 'Dona'], 'Miss')\n",
    "df_test['Title']  = df_test['Title'].replace(['Mme', 'Ms', 'Lady', 'Mlle', 'the Countess', 'Dona'], 'Miss')\n",
    "df_train['Title'].replace(['Major', 'Col', 'Capt', 'Don', 'Sir', 'Jonkheer'], 'Mr', inplace=True)\n",
    "df_test['Title'].replace(['Major', 'Col', 'Capt', 'Don', 'Sir', 'Jonkheer'], 'Mr', inplace=True)"
   ]
  },
  {
   "cell_type": "code",
   "execution_count": 341,
   "metadata": {},
   "outputs": [],
   "source": [
    "for feature in cat_features:\n",
    "    df_train[feature] = df_train[feature].astype('category')\n",
    "    df_test[feature] = df_test[feature].astype('category')"
   ]
  },
  {
   "cell_type": "code",
   "execution_count": 342,
   "metadata": {
    "scrolled": false
   },
   "outputs": [],
   "source": [
    "# EDIT: This has a big random impact on the estimator. Keeping it as NaN forces LightGBM to deal with it. Is that better?\n",
    "# # Impute age values based random sampling from distributions conditioned on Pclass and Sex (from both sets)\n",
    "# # Add 0.5 as that is the way to show that a value is estimated in the rest of the data\n",
    "# df_total = pd.concat([df_train.drop('Survived', axis=1), df_test])\n",
    "\n",
    "# def impute_age(row):\n",
    "#     if np.isnan(row['Age']):\n",
    "#         return int(df_total[(df_total['Pclass'] == row['Pclass']) & (df_total['Sex'] == row['Sex'])]['Age'].dropna().sample())+0.5\n",
    "#     else:\n",
    "#         return row['Age']\n",
    "\n",
    "# df_train['Age'] = df_train.apply(impute_age, axis=1)\n",
    "# df_test['Age']  = df_test.apply(impute_age, axis=1)"
   ]
  },
  {
   "cell_type": "code",
   "execution_count": 343,
   "metadata": {},
   "outputs": [
    {
     "data": {
      "text/html": [
       "<div>\n",
       "<style scoped>\n",
       "    .dataframe tbody tr th:only-of-type {\n",
       "        vertical-align: middle;\n",
       "    }\n",
       "\n",
       "    .dataframe tbody tr th {\n",
       "        vertical-align: top;\n",
       "    }\n",
       "\n",
       "    .dataframe thead th {\n",
       "        text-align: right;\n",
       "    }\n",
       "</style>\n",
       "<table border=\"1\" class=\"dataframe\">\n",
       "  <thead>\n",
       "    <tr style=\"text-align: right;\">\n",
       "      <th></th>\n",
       "      <th>Pclass</th>\n",
       "      <th>Title</th>\n",
       "      <th>Fam_type</th>\n",
       "      <th>Embarked</th>\n",
       "      <th>Fare</th>\n",
       "    </tr>\n",
       "    <tr>\n",
       "      <th>PassengerId</th>\n",
       "      <th></th>\n",
       "      <th></th>\n",
       "      <th></th>\n",
       "      <th></th>\n",
       "      <th></th>\n",
       "    </tr>\n",
       "  </thead>\n",
       "  <tbody>\n",
       "    <tr>\n",
       "      <th>1</th>\n",
       "      <td>3</td>\n",
       "      <td>Mr</td>\n",
       "      <td>Small</td>\n",
       "      <td>S</td>\n",
       "      <td>7.2500</td>\n",
       "    </tr>\n",
       "    <tr>\n",
       "      <th>2</th>\n",
       "      <td>1</td>\n",
       "      <td>Mrs</td>\n",
       "      <td>Small</td>\n",
       "      <td>C</td>\n",
       "      <td>71.2833</td>\n",
       "    </tr>\n",
       "    <tr>\n",
       "      <th>3</th>\n",
       "      <td>3</td>\n",
       "      <td>Miss</td>\n",
       "      <td>Solo</td>\n",
       "      <td>S</td>\n",
       "      <td>7.9250</td>\n",
       "    </tr>\n",
       "    <tr>\n",
       "      <th>4</th>\n",
       "      <td>1</td>\n",
       "      <td>Mrs</td>\n",
       "      <td>Small</td>\n",
       "      <td>S</td>\n",
       "      <td>53.1000</td>\n",
       "    </tr>\n",
       "    <tr>\n",
       "      <th>5</th>\n",
       "      <td>3</td>\n",
       "      <td>Mr</td>\n",
       "      <td>Solo</td>\n",
       "      <td>S</td>\n",
       "      <td>8.0500</td>\n",
       "    </tr>\n",
       "  </tbody>\n",
       "</table>\n",
       "</div>"
      ],
      "text/plain": [
       "            Pclass Title Fam_type Embarked     Fare\n",
       "PassengerId                                        \n",
       "1                3    Mr    Small        S   7.2500\n",
       "2                1   Mrs    Small        C  71.2833\n",
       "3                3  Miss     Solo        S   7.9250\n",
       "4                1   Mrs    Small        S  53.1000\n",
       "5                3    Mr     Solo        S   8.0500"
      ]
     },
     "execution_count": 343,
     "metadata": {},
     "output_type": "execute_result"
    }
   ],
   "source": [
    "df_train[features].head()"
   ]
  },
  {
   "cell_type": "code",
   "execution_count": 344,
   "metadata": {},
   "outputs": [],
   "source": [
    "X = df_train[features]\n",
    "y = df_train['Survived']"
   ]
  },
  {
   "cell_type": "code",
   "execution_count": 345,
   "metadata": {},
   "outputs": [
    {
     "name": "stdout",
     "output_type": "stream",
     "text": [
      "Accuracy: 0.816 (+/- 0.034)\n"
     ]
    }
   ],
   "source": [
    "# With categorical features\n",
    "clf = lgbm.LGBMClassifier(num_leaves=800, max_depth=-1, learning_rate=0.003, \n",
    "                          n_estimators=2000, min_child_samples=40, colsample_bytree=0.67,\n",
    "                          sub_sample=1.0, subsample_freq=0, random_seed=1234)\n",
    "scores = cross_val_score(clf, X, y, cv=5)\n",
    "print(\"Accuracy: %0.3f (+/- %0.3f)\" % (scores.mean(), scores.std() * 2))\n",
    "# Small standard deviation is probably better than small increments in accuracy"
   ]
  },
  {
   "cell_type": "code",
   "execution_count": 346,
   "metadata": {},
   "outputs": [
    {
     "data": {
      "text/plain": [
       "array([0.81564246, 0.80898876, 0.84831461, 0.79775281, 0.80898876])"
      ]
     },
     "execution_count": 346,
     "metadata": {},
     "output_type": "execute_result"
    }
   ],
   "source": [
    "scores"
   ]
  },
  {
   "cell_type": "code",
   "execution_count": 347,
   "metadata": {},
   "outputs": [
    {
     "data": {
      "text/plain": [
       "LGBMClassifier(boosting_type='gbdt', class_weight=None, colsample_bytree=0.67,\n",
       "               importance_type='split', learning_rate=0.003, max_depth=-1,\n",
       "               min_child_samples=40, min_child_weight=0.001, min_split_gain=0.0,\n",
       "               n_estimators=2000, n_jobs=-1, num_leaves=800, objective=None,\n",
       "               random_seed=1234, random_state=None, reg_alpha=0.0,\n",
       "               reg_lambda=0.0, silent=True, sub_sample=1.0, subsample=1.0,\n",
       "               subsample_for_bin=200000, subsample_freq=0)"
      ]
     },
     "execution_count": 347,
     "metadata": {},
     "output_type": "execute_result"
    }
   ],
   "source": [
    "clf.fit(X, y)"
   ]
  },
  {
   "cell_type": "code",
   "execution_count": 348,
   "metadata": {},
   "outputs": [],
   "source": [
    "# from sklearn.metrics import accuracy_score\n",
    "# accuracy_score(y, clf_final.predict(X))"
   ]
  },
  {
   "cell_type": "code",
   "execution_count": 349,
   "metadata": {},
   "outputs": [],
   "source": [
    "pred = clf.predict(df_test[features])\n",
    "submit = pd.DataFrame(index=df_test.index, data=pred, columns=['Survived'])"
   ]
  },
  {
   "cell_type": "code",
   "execution_count": 350,
   "metadata": {},
   "outputs": [
    {
     "data": {
      "text/plain": [
       "0    0.643541\n",
       "1    0.356459\n",
       "Name: Survived, dtype: float64"
      ]
     },
     "execution_count": 350,
     "metadata": {},
     "output_type": "execute_result"
    }
   ],
   "source": [
    "submit['Survived'].value_counts(normalize=True)"
   ]
  },
  {
   "cell_type": "code",
   "execution_count": 351,
   "metadata": {},
   "outputs": [],
   "source": [
    "submit.to_csv(os.path.join('submissions', '200809_lgbm_7.csv'), header=True)"
   ]
  }
 ],
 "metadata": {
  "kernelspec": {
   "display_name": "Python 3",
   "language": "python",
   "name": "python3"
  },
  "language_info": {
   "codemirror_mode": {
    "name": "ipython",
    "version": 3
   },
   "file_extension": ".py",
   "mimetype": "text/x-python",
   "name": "python",
   "nbconvert_exporter": "python",
   "pygments_lexer": "ipython3",
   "version": "3.8.2"
  }
 },
 "nbformat": 4,
 "nbformat_minor": 4
}
